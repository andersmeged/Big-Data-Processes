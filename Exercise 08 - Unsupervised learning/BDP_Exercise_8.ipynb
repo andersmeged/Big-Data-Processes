{
 "cells": [
  {
   "cell_type": "markdown",
   "metadata": {},
   "source": [
    "# Big Data Processes - exercise no. 8\n",
    "# <font color= green>Unsupervised learning</font>"
   ]
  },
  {
   "cell_type": "markdown",
   "metadata": {},
   "source": [
    "#### <font color= red>Run in your anaconda (command) prompt</font>\n",
    "pip install kneed"
   ]
  },
  {
   "cell_type": "markdown",
   "metadata": {},
   "source": [
    "### 1. Importing various libraries"
   ]
  },
  {
   "cell_type": "code",
   "execution_count": null,
   "metadata": {},
   "outputs": [],
   "source": [
    "import numpy as np\n",
    "import pandas as pd\n",
    "from matplotlib import pyplot as plt\n",
    "from sklearn.model_selection import train_test_split\n",
    "from sklearn.cluster import KMeans\n",
    "from kneed import KneeLocator\n",
    "from sklearn.metrics import silhouette_score\n",
    "from sklearn.metrics import adjusted_rand_score"
   ]
  },
  {
   "cell_type": "markdown",
   "metadata": {},
   "source": [
    "### 2. Load and examine the data"
   ]
  },
  {
   "cell_type": "code",
   "execution_count": null,
   "metadata": {
    "scrolled": false
   },
   "outputs": [],
   "source": [
    "import pandas as pd\n",
    "dataset = pd.read_csv('boat.csv', delimiter=',')\n",
    "dataset.head()"
   ]
  },
  {
   "cell_type": "markdown",
   "metadata": {},
   "source": [
    "Today, we are gonna work with the **boat** dataset.  It contains some facts about the passengers on a boat"
   ]
  },
  {
   "cell_type": "code",
   "execution_count": null,
   "metadata": {
    "scrolled": true
   },
   "outputs": [],
   "source": [
    "dataset.info()"
   ]
  },
  {
   "cell_type": "markdown",
   "metadata": {},
   "source": [
    "## <font color= green>K-Means clustering</font>"
   ]
  },
  {
   "cell_type": "markdown",
   "metadata": {},
   "source": [
    "**Why do you cluster**:\n",
    "- Cluster analysis works to perform taxanomy description. this means that you find natural groups within the data not based on the variables, but based on the characteristica the data units share\n",
    "\n",
    "**How K-Means clustering works**:\n",
    "- You select the number of clusters that you want to identify in your data. This is the K in K-Means clustering (we want to create 3 clusters because there are three different Pclass values in the dataset)\n",
    "- The centroid seeds for each cluster is randomly created based on random datapoints from the data. If you choose to create 3 clusters (K=3), 3 random centroid seeds will initially be created\n",
    "- The distance is measured between the first datapoint and the three initial clusters. \n",
    "- The first datapoint is assigned to the nearest cluster\n",
    "- Now we do the same thing for the next datapoint and continue this process until we have assigned all datapoints\n",
    "- Then the mean of each cluster is calculated\n",
    "- Then we measure and cluster again, but this time using the mean values as the centroid seeds\n",
    "- The quality of the clusters are assessed by adding up the variation within each cluster. \n",
    "- KMeans keep track of the total variance within each cluster. \n",
    "- Then KMeans creates 3 new random centroid seeds based on random datapoints from the data. Calculate the mean of each cluster, reclusters based on the new mean etc.\n",
    "- KMeans does this as many times as you tell it to. \n",
    "\n",
    "- **A video explaining K-means clustering:** https://www.youtube.com/watch?v=4b5d3muPQmA"
   ]
  },
  {
   "cell_type": "markdown",
   "metadata": {},
   "source": [
    "### 3. Process the data for clustering"
   ]
  },
  {
   "cell_type": "markdown",
   "metadata": {},
   "source": [
    "We apply the Standardscaler to scale the variables in the dataset so that they are evaluated to be same level of importance by the clustering algorithm. We scale only the features, but not the target"
   ]
  },
  {
   "cell_type": "code",
   "execution_count": null,
   "metadata": {},
   "outputs": [],
   "source": [
    "X=dataset[['kwh','spendings','Fare','liters']]\n",
    "y=dataset['Pclass'].values"
   ]
  },
  {
   "cell_type": "code",
   "execution_count": null,
   "metadata": {
    "scrolled": true
   },
   "outputs": [],
   "source": [
    "from sklearn.preprocessing import StandardScaler\n",
    "sc=StandardScaler()\n",
    "\n",
    "X_scaled = pd.DataFrame(sc.fit_transform(X),columns = X.columns)"
   ]
  },
  {
   "cell_type": "markdown",
   "metadata": {},
   "source": [
    "Let us take a look at what X_scaled looks like (always a good idea to print your variables to make sure that all the needed data is in the variable and that the variable is in the correct format)"
   ]
  },
  {
   "cell_type": "code",
   "execution_count": null,
   "metadata": {},
   "outputs": [],
   "source": [
    "X_scaled.head()"
   ]
  },
  {
   "cell_type": "markdown",
   "metadata": {},
   "source": [
    "Now we construct a for-loop testing the different values for k (number of clusters). We want to find the balance between the sum of squared distances to be as small as possible and creating as few clusters as possible"
   ]
  },
  {
   "cell_type": "code",
   "execution_count": null,
   "metadata": {},
   "outputs": [],
   "source": [
    "Sum_of_squared_distances = []\n",
    "for k in range(1, 11):\n",
    "    kmeans = KMeans(n_clusters=k,init='random', n_init= 10, random_state=0)\n",
    "    kmeans.fit(X_scaled)\n",
    "    Sum_of_squared_distances.append(kmeans.inertia_)"
   ]
  },
  {
   "cell_type": "markdown",
   "metadata": {},
   "source": [
    "- n_init= number of times the kmeans algorithm will run with different centroid seeds\n",
    "- init = random: Means that algorithm choose n_clusters observations at random from data for the initial centroids"
   ]
  },
  {
   "cell_type": "markdown",
   "metadata": {},
   "source": [
    "### 4. Find the optimal number of clusters"
   ]
  },
  {
   "cell_type": "markdown",
   "metadata": {},
   "source": [
    "#### <font color= green>Elbow point</font>"
   ]
  },
  {
   "cell_type": "markdown",
   "metadata": {},
   "source": [
    "We can visualize the relationship between amount of clusters and sum of squared distances in order to determine the elbow point visually"
   ]
  },
  {
   "cell_type": "code",
   "execution_count": null,
   "metadata": {
    "scrolled": true
   },
   "outputs": [],
   "source": [
    "# Plotting\n",
    "fig, ax = plt.subplots(figsize=(6, 4))\n",
    "plt.style.use(\"fivethirtyeight\")\n",
    "plt.plot(range(1, 11), Sum_of_squared_distances)\n",
    "plt.xticks(range(1, 11))\n",
    "plt.xlabel(\"Number of Clusters\")\n",
    "plt.ylabel(\"Sum_of_squared_distances\")\n",
    "plt.show()"
   ]
  },
  {
   "cell_type": "markdown",
   "metadata": {},
   "source": [
    "##### Question 1: \n",
    "Based on the graph, where is the elbow point?"
   ]
  },
  {
   "cell_type": "code",
   "execution_count": null,
   "metadata": {
    "scrolled": true
   },
   "outputs": [],
   "source": [
    "#if it is hard to determine the elbow point visually, we can get Jupyter to do it for us\n",
    "kl = KneeLocator(range(1, 11), Sum_of_squared_distances, curve=\"convex\", direction=\"decreasing\")\n",
    "kl.elbow"
   ]
  },
  {
   "cell_type": "markdown",
   "metadata": {},
   "source": [
    "#### <font color= green>The silhouette coefficient</font>"
   ]
  },
  {
   "cell_type": "markdown",
   "metadata": {},
   "source": [
    "The silhouette coefficient measures how well a datapoint fits into its assigned cluster based on two factors:\n",
    "- How close the datapoint is to the other points in the cluster\n",
    "- How far the datapoint is from points in other clusters"
   ]
  },
  {
   "cell_type": "code",
   "execution_count": null,
   "metadata": {
    "scrolled": true
   },
   "outputs": [],
   "source": [
    "silhouette_coefficients = []\n",
    "# Notice you start at 2 clusters for silhouette coefficient\n",
    "for k in range(2, 11):\n",
    "    kmeans = KMeans(n_clusters=k, init= 'random', n_init= 10, random_state=0)\n",
    "    kmeans.fit(X)\n",
    "    score = silhouette_score(X_scaled, kmeans.labels_)\n",
    "    silhouette_coefficients.append(score)\n",
    "    \n",
    "plt.style.use(\"fivethirtyeight\")\n",
    "plt.plot(range(2, 11), silhouette_coefficients)\n",
    "plt.xticks(range(2, 11))\n",
    "plt.xlabel(\"Number of Clusters\")\n",
    "plt.ylabel(\"Silhouette Coefficient\")\n",
    "plt.show()"
   ]
  },
  {
   "cell_type": "markdown",
   "metadata": {},
   "source": [
    "##### Question 2: \n",
    "We have three classes in the data. However, our models want us to have two classes when they analyze the data. What does that say about the data?"
   ]
  },
  {
   "cell_type": "markdown",
   "metadata": {},
   "source": [
    "### 5. Evaluate the model"
   ]
  },
  {
   "cell_type": "code",
   "execution_count": null,
   "metadata": {
    "scrolled": true
   },
   "outputs": [],
   "source": [
    "# Check how well the model clusters the data through a visualization\n",
    "kn=KMeans(n_clusters=2, random_state=0)\n",
    "y_predicted= kn.fit_predict(X_scaled)\n",
    "plt.scatter(X_scaled.iloc[:,0].values,X_scaled.iloc[:,1].values,c=y_predicted, cmap='rainbow')\n",
    "plt.scatter(kn.cluster_centers_[:,0],kn.cluster_centers_[:,1],color='blue',marker='*')"
   ]
  },
  {
   "cell_type": "markdown",
   "metadata": {},
   "source": [
    "#### <font color= green>**The adjusted rand index (ARI):**</font>\n",
    "- ARI measures the similarity between true and predicted labels for each cluster.\n",
    "- The ARI output values range between -1 and 1. A score close to 0.0 indicates random assignments, and a score close to 1 indicates perfectly labeled clusters"
   ]
  },
  {
   "cell_type": "code",
   "execution_count": null,
   "metadata": {
    "scrolled": true
   },
   "outputs": [],
   "source": [
    "ari_kmeans = adjusted_rand_score(y_predicted, y)\n",
    "ari_kmeans"
   ]
  },
  {
   "cell_type": "markdown",
   "metadata": {},
   "source": [
    "#### <font color= green>**V-measure:**</font>\n",
    "- V-measure is the mean of homogeneity and completeness\n",
    "- Homogeneity describes whether each cluster contains only members of a single class. \n",
    "- Completeness: all members of a given class are assigned to the same cluster"
   ]
  },
  {
   "cell_type": "code",
   "execution_count": null,
   "metadata": {
    "scrolled": false
   },
   "outputs": [],
   "source": [
    "from sklearn.metrics import v_measure_score\n",
    "v_measure_score(y_predicted,y)"
   ]
  },
  {
   "cell_type": "markdown",
   "metadata": {},
   "source": [
    "## <font color= green>Agglomerative clustering</font>"
   ]
  },
  {
   "cell_type": "markdown",
   "metadata": {},
   "source": [
    "**Difference between KMeans clustering and hierarchical clustering:** KMeans tries to put the datapoints into the number of clusters that you tell it to. Hierarchical clustering tells you parwise what two datapoints are most similar"
   ]
  },
  {
   "cell_type": "markdown",
   "metadata": {},
   "source": [
    "**How agglomerative clustering works**:\n",
    "\n",
    "- Hierarchical clustering orders the rows based on similarity which makes it easy to see similiarities in the data\n",
    "- The agglomerative clustering algorithm compares one row (one passenger on the boat/ on datapoint) to all other rows in the dataset to find what other row it is most similar to. It then turns these two rows into a cluster. Then it takes a third row and compares whether it is most similar to the created cluster or another row in the dataset. Then it either increases the size of the existing cluster or creates a new cluster. This is done for all rows in the data. \n",
    "- There are different ways to measure similarity. The two most common ways are euclidean and manhattan. For an explnation of the theory behind the two similarity metrics, see the video. Decide whether to use euclidean or manhattan based on which gives you the most insights into your data\n",
    "- **A video explaining agglomerative clustering:** https://www.youtube.com/watch?v=4b5d3muPQmA"
   ]
  },
  {
   "cell_type": "code",
   "execution_count": null,
   "metadata": {},
   "outputs": [],
   "source": [
    "#import the scipy library\n",
    "import scipy.cluster.hierarchy as sch"
   ]
  },
  {
   "cell_type": "markdown",
   "metadata": {},
   "source": [
    "We create the dendrogram in order to determine number of clusters"
   ]
  },
  {
   "cell_type": "code",
   "execution_count": null,
   "metadata": {
    "scrolled": false
   },
   "outputs": [],
   "source": [
    "fig, ax = plt.subplots(figsize=(10, 5))\n",
    "dendrogram = sch.dendrogram(sch.linkage(X_scaled, method  = \"ward\"))\n",
    "plt.title('Dendrogram')\n",
    "plt.xlabel('People on boat')\n",
    "plt.ylabel('Euclidean distances')\n",
    "plt.show()"
   ]
  },
  {
   "cell_type": "markdown",
   "metadata": {},
   "source": [
    "- In contrast to the decision tree, you read the dendogram from the bottom going up. \n",
    "- **The Ward method** start with n clusters each containing one datapoint. Then it combines the clusters into new clusters based on achieving smallest possible variance within each cluster. Variance is measured through the sum of squares index. The clusters are combined to, in the end, make one cluster containing all the datapoints. \n",
    "\n",
    "Based on the dendogram, you can find the number of clusters by placing a horizontal rectangle with max height that does not cross any horizontal vertical dendogram line. "
   ]
  },
  {
   "attachments": {
    "clustering.PNG": {
     "image/png": "[encoded data removed]"
    }
   },
   "cell_type": "markdown",
   "metadata": {},
   "source": [
    "![clustering.PNG](attachment:clustering.PNG)"
   ]
  },
  {
   "cell_type": "markdown",
   "metadata": {},
   "source": [
    "##### Question 3: \n",
    "How many clusters should we cluster the data into based on the dendrogram we have created for our data?"
   ]
  },
  {
   "cell_type": "markdown",
   "metadata": {},
   "source": [
    "We import the agglomerative clustering algorithm and create an object from the algorithm's class"
   ]
  },
  {
   "cell_type": "code",
   "execution_count": null,
   "metadata": {},
   "outputs": [],
   "source": [
    "from sklearn.cluster import AgglomerativeClustering \n",
    "ag_clustering = AgglomerativeClustering(n_clusters = 2, affinity = 'euclidean', linkage ='ward')"
   ]
  },
  {
   "cell_type": "markdown",
   "metadata": {},
   "source": [
    "We have now created an agglomerative clustering algorithm. We fit this algorithm on the X_scaled data and at the same time make it predict which cluster each person on the boat belongs to"
   ]
  },
  {
   "cell_type": "code",
   "execution_count": null,
   "metadata": {},
   "outputs": [],
   "source": [
    "y_ag_clustering=ag_clustering.fit_predict(X_scaled)"
   ]
  },
  {
   "cell_type": "markdown",
   "metadata": {},
   "source": [
    "we convert the X_scaled into values in order to plot them"
   ]
  },
  {
   "cell_type": "code",
   "execution_count": null,
   "metadata": {
    "scrolled": true
   },
   "outputs": [],
   "source": [
    "X_scaled_values=X_scaled.values"
   ]
  },
  {
   "cell_type": "markdown",
   "metadata": {},
   "source": [
    "We plot the two clusters"
   ]
  },
  {
   "cell_type": "code",
   "execution_count": null,
   "metadata": {},
   "outputs": [],
   "source": [
    "plt.scatter(X_scaled_values[y_ag_clustering==0, 0], X_scaled_values[y_ag_clustering==0, 1], s=50, marker='o', color='purple')\n",
    "plt.scatter(X_scaled_values[y_ag_clustering==1, 0], X_scaled_values[y_ag_clustering==1, 1], s=50, marker='o', color='red')\n",
    "#plt.scatter(X_scaled_values[y_ag_clustering==2, 0], X_scaled_values[y_ag_clustering==2, 1], s=50, marker='o', color='red')\n",
    "plt.show()"
   ]
  },
  {
   "cell_type": "markdown",
   "metadata": {},
   "source": [
    "## <font color= green>Principal Component Analysis (PCA)</font>"
   ]
  },
  {
   "cell_type": "markdown",
   "metadata": {},
   "source": [
    "**purpose of PCA:** reduce the dimensionality of the data\n",
    "\n",
    "**A video explaining the theory behind principal component analysis:** https://www.youtube.com/watch?v=FgakZw6K1QQ&t=204s"
   ]
  },
  {
   "cell_type": "markdown",
   "metadata": {},
   "source": [
    "We make a new X and y because we have altered our X and y a lot through this notebook"
   ]
  },
  {
   "cell_type": "code",
   "execution_count": null,
   "metadata": {},
   "outputs": [],
   "source": [
    "X2=dataset[['kwh','spendings','Fare','liters','kwh']]\n",
    "y_PCA=dataset['Pclass'].values"
   ]
  },
  {
   "cell_type": "markdown",
   "metadata": {},
   "source": [
    "We plot the cumulative explained variance ratio as a function of the number of components in order to determine how many components to reduce the features into through PCA"
   ]
  },
  {
   "cell_type": "code",
   "execution_count": null,
   "metadata": {},
   "outputs": [],
   "source": [
    "from sklearn.decomposition import PCA\n",
    "pca = PCA().fit(dataset)\n",
    "plt.plot(np.cumsum(pca.explained_variance_ratio_))\n",
    "plt.xlabel('number of components')\n",
    "plt.ylabel('cumulative explained variance');"
   ]
  },
  {
   "cell_type": "markdown",
   "metadata": {},
   "source": [
    "##### Question 4: \n",
    "How many components would you reduce the data to?"
   ]
  },
  {
   "cell_type": "markdown",
   "metadata": {},
   "source": [
    "Approximately 99 % of the variance within the data can be contained within two components. Consequently, we choose 2 components for our PCA"
   ]
  },
  {
   "cell_type": "markdown",
   "metadata": {},
   "source": [
    "We import the PCA and make an object from the PCA class. We fit the PCA on X2 and reduce number of dimensions from 5 (amount of variables) to 2 (based on cumulative explained variance) "
   ]
  },
  {
   "cell_type": "code",
   "execution_count": null,
   "metadata": {
    "scrolled": true
   },
   "outputs": [],
   "source": [
    "pca = PCA(n_components=2)\n",
    "pca.fit(X2)\n",
    "X_PCA = pca.transform(X2)\n",
    "print(\"original shape:   \", X2.shape)\n",
    "print(\"transformed shape:\", X_PCA.shape)"
   ]
  },
  {
   "cell_type": "markdown",
   "metadata": {},
   "source": [
    "We can make a scree plot in order to determine how much of the variance is contained within each component"
   ]
  },
  {
   "cell_type": "code",
   "execution_count": null,
   "metadata": {
    "scrolled": true
   },
   "outputs": [],
   "source": [
    "per_var = np.round(pca.explained_variance_ratio_ * 100, decimals=1)\n",
    "labels = ['PC' + str(x) for x in range(1, len(per_var) + 1)]\n",
    "plt.bar(x=range(1, len(per_var)+1), height=per_var, tick_label=labels)\n",
    "plt.ylabel('percentange of explained variance')\n",
    "plt.xlabel('principal component')\n",
    "plt.title('scree plot')\n",
    "plt.show()"
   ]
  },
  {
   "cell_type": "markdown",
   "metadata": {},
   "source": [
    "We can now plot the two principal components of each point"
   ]
  },
  {
   "cell_type": "code",
   "execution_count": null,
   "metadata": {},
   "outputs": [],
   "source": [
    "plt.scatter(X_PCA[:, 0], X_PCA[:, 1],\n",
    "            c=y_PCA, edgecolor='none', alpha=0.5,\n",
    "            cmap=plt.cm.get_cmap('rainbow', 10))\n",
    "plt.xlabel('component 1')\n",
    "plt.ylabel('component 2')"
   ]
  },
  {
   "cell_type": "markdown",
   "metadata": {},
   "source": [
    "Remember what the components mean: the full data is 6-dimensional. The points in the visualization are the projection of each data point along the directions with the largest variance."
   ]
  },
  {
   "cell_type": "markdown",
   "metadata": {},
   "source": [
    "### Exercises: Apply the K-Means clustering, agglomerative clustering and PCA on your own dataset"
   ]
  },
  {
   "cell_type": "markdown",
   "metadata": {},
   "source": [
    "## <font color = blue>Have a great day :-) "
   ]
  }
 ],
 "metadata": {
  "kernelspec": {
   "display_name": "Python 3 (ipykernel)",
   "language": "python",
   "name": "python3"
  },
  "language_info": {
   "codemirror_mode": {
    "name": "ipython",
    "version": 3
   },
   "file_extension": ".py",
   "mimetype": "text/x-python",
   "name": "python",
   "nbconvert_exporter": "python",
   "pygments_lexer": "ipython3",
   "version": "3.7.11"
  }
 },
 "nbformat": 4,
 "nbformat_minor": 2
}
